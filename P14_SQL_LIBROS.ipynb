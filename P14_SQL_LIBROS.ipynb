{
  "cells": [
    {
      "cell_type": "markdown",
      "metadata": {
        "id": "view-in-github",
        "colab_type": "text"
      },
      "source": [
        "<a href=\"https://colab.research.google.com/github/mrefugionv/S14---APLICACION-LIBROS-SQL/blob/main/P14_SQL_LIBROS.ipynb\" target=\"_parent\"><img src=\"https://colab.research.google.com/assets/colab-badge.svg\" alt=\"Open In Colab\"/></a>"
      ]
    },
    {
      "cell_type": "markdown",
      "metadata": {
        "id": "2mJD7FnrhDcF"
      },
      "source": [
        "# PROYECTO SQL\n",
        "María del Refugio Noriega Vargas"
      ]
    },
    {
      "cell_type": "markdown",
      "metadata": {
        "id": "Bv-w_41ShDcG"
      },
      "source": [
        "## Descripción del proyecto\n",
        "\n",
        "Te han dado una base de datos de uno de los servicios de aplicaciones para los amantes de los libros. Contiene datos sobre libros, editoriales, autores y calificaciones de clientes y reseñas de libros. Esta información se utilizará para generar una propuesta de valor para un nuevo producto."
      ]
    },
    {
      "cell_type": "markdown",
      "metadata": {
        "id": "ofhGsiJ3hDcG"
      },
      "source": [
        "# Objetivos del estudio"
      ]
    },
    {
      "cell_type": "markdown",
      "metadata": {
        "id": "n-RpfRWYhDcG"
      },
      "source": [
        "* Encuentra el número de libros publicados después del 1 de enero de 2000.\n",
        "* Encuentra el número de reseñas de usuarios y la calificación promedio para cada libro.\n",
        "* Identifica la editorial que ha publicado el mayor número de libros con más de 50 páginas (esto te ayudará a excluir folletos y publicaciones similares de tu análisis).\n",
        "* Identifica al autor que tiene la más alta calificación promedio del libro: mira solo los libros con al menos 50 calificaciones.\n",
        "* Encuentra el número promedio de reseñas de texto entre los usuarios que calificaron más de 50 libros."
      ]
    },
    {
      "cell_type": "markdown",
      "metadata": {
        "id": "ev0-v25QhDcH"
      },
      "source": [
        "## Estudio de tablas"
      ]
    },
    {
      "cell_type": "markdown",
      "metadata": {
        "id": "D2C8OOQnhDcH"
      },
      "source": [
        "### Conexión a base de datos"
      ]
    },
    {
      "cell_type": "code",
      "execution_count": null,
      "metadata": {
        "id": "sF8UIG0jhDcH"
      },
      "outputs": [],
      "source": [
        "# import libraries\n",
        "import pandas as pd\n",
        "from sqlalchemy import create_engine\n",
        "db_config = {\n",
        " 'user': 'practicum_student', # username\n",
        " 'pwd': 'QnmDH8Sc2TQLvy2G3Vvh7', # password\n",
        " 'host': 'yp-trainers-practicum.cluster-czs0gxyx2d8w.us-east-1.rds.amazonaws.com',\n",
        " 'port': 5432, # connection port\n",
        " 'db': 'data-analyst-final-project-db' # the name of the database\n",
        " }\n",
        "connection_string = 'postgresql://{}:{}@{}:{}/{}'.format(db_config['user'],\n",
        "                                                         db_config['pwd'],\n",
        "                                                         db_config['host'],\n",
        "                                                         db_config['port'],\n",
        "                                                         db_config['db'])\n",
        "# La conexión se almacena en la variable engine .\n",
        "engine = create_engine(connection_string, connect_args={'sslmode':'require'})\n"
      ]
    },
    {
      "cell_type": "markdown",
      "metadata": {
        "id": "kJWS5ogghDcJ"
      },
      "source": [
        "### Tablas"
      ]
    },
    {
      "cell_type": "markdown",
      "metadata": {
        "id": "V0lRJ1L8hDcJ"
      },
      "source": [
        "#### Books\n",
        "\n",
        "Contiene datos sobre libros:\n",
        "\n",
        "- `book_id` — identificación del libro\n",
        "- `author_id` — identificación del autor o autora\n",
        "- `title` — título\n",
        "- `num_pages` — número de páginas\n",
        "- `publication_date` — fecha de la publicación\n",
        "- `publisher_id` — identificación de la editorial"
      ]
    },
    {
      "cell_type": "code",
      "execution_count": null,
      "metadata": {
        "id": "AX3U5RFahDcJ",
        "outputId": "dff7495d-a66d-404e-a1a6-49821460f96b"
      },
      "outputs": [
        {
          "data": {
            "text/html": [
              "<div>\n",
              "<style scoped>\n",
              "    .dataframe tbody tr th:only-of-type {\n",
              "        vertical-align: middle;\n",
              "    }\n",
              "\n",
              "    .dataframe tbody tr th {\n",
              "        vertical-align: top;\n",
              "    }\n",
              "\n",
              "    .dataframe thead th {\n",
              "        text-align: right;\n",
              "    }\n",
              "</style>\n",
              "<table border=\"1\" class=\"dataframe\">\n",
              "  <thead>\n",
              "    <tr style=\"text-align: right;\">\n",
              "      <th></th>\n",
              "      <th>book_id</th>\n",
              "      <th>author_id</th>\n",
              "      <th>title</th>\n",
              "      <th>num_pages</th>\n",
              "      <th>publication_date</th>\n",
              "      <th>publisher_id</th>\n",
              "    </tr>\n",
              "  </thead>\n",
              "  <tbody>\n",
              "    <tr>\n",
              "      <th>0</th>\n",
              "      <td>1</td>\n",
              "      <td>546</td>\n",
              "      <td>'Salem's Lot</td>\n",
              "      <td>594</td>\n",
              "      <td>2005-11-01</td>\n",
              "      <td>93</td>\n",
              "    </tr>\n",
              "    <tr>\n",
              "      <th>1</th>\n",
              "      <td>2</td>\n",
              "      <td>465</td>\n",
              "      <td>1 000 Places to See Before You Die</td>\n",
              "      <td>992</td>\n",
              "      <td>2003-05-22</td>\n",
              "      <td>336</td>\n",
              "    </tr>\n",
              "    <tr>\n",
              "      <th>2</th>\n",
              "      <td>3</td>\n",
              "      <td>407</td>\n",
              "      <td>13 Little Blue Envelopes (Little Blue Envelope...</td>\n",
              "      <td>322</td>\n",
              "      <td>2010-12-21</td>\n",
              "      <td>135</td>\n",
              "    </tr>\n",
              "    <tr>\n",
              "      <th>3</th>\n",
              "      <td>4</td>\n",
              "      <td>82</td>\n",
              "      <td>1491: New Revelations of the Americas Before C...</td>\n",
              "      <td>541</td>\n",
              "      <td>2006-10-10</td>\n",
              "      <td>309</td>\n",
              "    </tr>\n",
              "    <tr>\n",
              "      <th>4</th>\n",
              "      <td>5</td>\n",
              "      <td>125</td>\n",
              "      <td>1776</td>\n",
              "      <td>386</td>\n",
              "      <td>2006-07-04</td>\n",
              "      <td>268</td>\n",
              "    </tr>\n",
              "  </tbody>\n",
              "</table>\n",
              "</div>"
            ],
            "text/plain": [
              "   book_id  author_id                                              title  \\\n",
              "0        1        546                                       'Salem's Lot   \n",
              "1        2        465                 1 000 Places to See Before You Die   \n",
              "2        3        407  13 Little Blue Envelopes (Little Blue Envelope...   \n",
              "3        4         82  1491: New Revelations of the Americas Before C...   \n",
              "4        5        125                                               1776   \n",
              "\n",
              "   num_pages publication_date  publisher_id  \n",
              "0        594       2005-11-01            93  \n",
              "1        992       2003-05-22           336  \n",
              "2        322       2010-12-21           135  \n",
              "3        541       2006-10-10           309  \n",
              "4        386       2006-07-04           268  "
            ]
          },
          "execution_count": 2,
          "metadata": {},
          "output_type": "execute_result"
        }
      ],
      "source": [
        "query_1 = \"\"\"\n",
        "SELECT *\n",
        "FROM books\n",
        "Limit 5;\n",
        "\"\"\"\n",
        "pd.io.sql.read_sql(query_1, con = engine)"
      ]
    },
    {
      "cell_type": "markdown",
      "metadata": {
        "id": "v0NNKTkShDcK"
      },
      "source": [
        "#### Authors\n",
        "\n",
        "Contiene datos sobre autores:\n",
        "- `author_id` — identificación del autor o autora\n",
        "- `author` — el autor o la autora"
      ]
    },
    {
      "cell_type": "code",
      "execution_count": null,
      "metadata": {
        "id": "L71xf_WShDcK",
        "outputId": "48a8ad56-a622-43e1-b3ac-ae246af87091"
      },
      "outputs": [
        {
          "data": {
            "text/html": [
              "<div>\n",
              "<style scoped>\n",
              "    .dataframe tbody tr th:only-of-type {\n",
              "        vertical-align: middle;\n",
              "    }\n",
              "\n",
              "    .dataframe tbody tr th {\n",
              "        vertical-align: top;\n",
              "    }\n",
              "\n",
              "    .dataframe thead th {\n",
              "        text-align: right;\n",
              "    }\n",
              "</style>\n",
              "<table border=\"1\" class=\"dataframe\">\n",
              "  <thead>\n",
              "    <tr style=\"text-align: right;\">\n",
              "      <th></th>\n",
              "      <th>author_id</th>\n",
              "      <th>author</th>\n",
              "    </tr>\n",
              "  </thead>\n",
              "  <tbody>\n",
              "    <tr>\n",
              "      <th>0</th>\n",
              "      <td>1</td>\n",
              "      <td>A.S. Byatt</td>\n",
              "    </tr>\n",
              "    <tr>\n",
              "      <th>1</th>\n",
              "      <td>2</td>\n",
              "      <td>Aesop/Laura Harris/Laura Gibbs</td>\n",
              "    </tr>\n",
              "    <tr>\n",
              "      <th>2</th>\n",
              "      <td>3</td>\n",
              "      <td>Agatha Christie</td>\n",
              "    </tr>\n",
              "    <tr>\n",
              "      <th>3</th>\n",
              "      <td>4</td>\n",
              "      <td>Alan Brennert</td>\n",
              "    </tr>\n",
              "    <tr>\n",
              "      <th>4</th>\n",
              "      <td>5</td>\n",
              "      <td>Alan Moore/David   Lloyd</td>\n",
              "    </tr>\n",
              "  </tbody>\n",
              "</table>\n",
              "</div>"
            ],
            "text/plain": [
              "   author_id                          author\n",
              "0          1                      A.S. Byatt\n",
              "1          2  Aesop/Laura Harris/Laura Gibbs\n",
              "2          3                 Agatha Christie\n",
              "3          4                   Alan Brennert\n",
              "4          5        Alan Moore/David   Lloyd"
            ]
          },
          "execution_count": 3,
          "metadata": {},
          "output_type": "execute_result"
        }
      ],
      "source": [
        "query_2 = \"\"\"\n",
        "SELECT *\n",
        "FROM authors\n",
        "LIMIT 5;\n",
        "\"\"\"\n",
        "pd.io.sql.read_sql(query_2, con = engine)"
      ]
    },
    {
      "cell_type": "markdown",
      "metadata": {
        "id": "y1T3x9oyhDcK"
      },
      "source": [
        "#### Publishers\n",
        "\n",
        "Contiene datos sobre editoriales:\n",
        "- `publisher_id` — identificación de la editorial\n",
        "- `publisher` — la editorial"
      ]
    },
    {
      "cell_type": "code",
      "execution_count": null,
      "metadata": {
        "id": "rGWXbW_5hDcL",
        "outputId": "afed93c4-2375-4e91-8870-77d759c31a71"
      },
      "outputs": [
        {
          "data": {
            "text/html": [
              "<div>\n",
              "<style scoped>\n",
              "    .dataframe tbody tr th:only-of-type {\n",
              "        vertical-align: middle;\n",
              "    }\n",
              "\n",
              "    .dataframe tbody tr th {\n",
              "        vertical-align: top;\n",
              "    }\n",
              "\n",
              "    .dataframe thead th {\n",
              "        text-align: right;\n",
              "    }\n",
              "</style>\n",
              "<table border=\"1\" class=\"dataframe\">\n",
              "  <thead>\n",
              "    <tr style=\"text-align: right;\">\n",
              "      <th></th>\n",
              "      <th>publisher_id</th>\n",
              "      <th>publisher</th>\n",
              "    </tr>\n",
              "  </thead>\n",
              "  <tbody>\n",
              "    <tr>\n",
              "      <th>0</th>\n",
              "      <td>1</td>\n",
              "      <td>Ace</td>\n",
              "    </tr>\n",
              "    <tr>\n",
              "      <th>1</th>\n",
              "      <td>2</td>\n",
              "      <td>Ace Book</td>\n",
              "    </tr>\n",
              "    <tr>\n",
              "      <th>2</th>\n",
              "      <td>3</td>\n",
              "      <td>Ace Books</td>\n",
              "    </tr>\n",
              "    <tr>\n",
              "      <th>3</th>\n",
              "      <td>4</td>\n",
              "      <td>Ace Hardcover</td>\n",
              "    </tr>\n",
              "    <tr>\n",
              "      <th>4</th>\n",
              "      <td>5</td>\n",
              "      <td>Addison Wesley Publishing Company</td>\n",
              "    </tr>\n",
              "  </tbody>\n",
              "</table>\n",
              "</div>"
            ],
            "text/plain": [
              "   publisher_id                          publisher\n",
              "0             1                                Ace\n",
              "1             2                           Ace Book\n",
              "2             3                          Ace Books\n",
              "3             4                      Ace Hardcover\n",
              "4             5  Addison Wesley Publishing Company"
            ]
          },
          "execution_count": 4,
          "metadata": {},
          "output_type": "execute_result"
        }
      ],
      "source": [
        "query_3 = \"\"\"\n",
        "SELECT *\n",
        "FROM publishers\n",
        "LIMIT 5;\n",
        "\"\"\"\n",
        "pd.io.sql.read_sql(query_3, con=engine )"
      ]
    },
    {
      "cell_type": "markdown",
      "metadata": {
        "id": "32fMOz8KhDcL"
      },
      "source": [
        "#### Ratings\n",
        "\n",
        "Contiene datos sobre las calificaciones de usuarios:\n",
        "- `rating_id` — identificación de la calificación\n",
        "- `book_id` — identificación del libro\n",
        "- `username` — el nombre del usuario que revisó el libro\n",
        "- `rating` — calificación"
      ]
    },
    {
      "cell_type": "code",
      "execution_count": null,
      "metadata": {
        "id": "lr71MbzuhDcL",
        "outputId": "e680a5b7-ca8d-4611-dfad-21196b65ac3d"
      },
      "outputs": [
        {
          "data": {
            "text/html": [
              "<div>\n",
              "<style scoped>\n",
              "    .dataframe tbody tr th:only-of-type {\n",
              "        vertical-align: middle;\n",
              "    }\n",
              "\n",
              "    .dataframe tbody tr th {\n",
              "        vertical-align: top;\n",
              "    }\n",
              "\n",
              "    .dataframe thead th {\n",
              "        text-align: right;\n",
              "    }\n",
              "</style>\n",
              "<table border=\"1\" class=\"dataframe\">\n",
              "  <thead>\n",
              "    <tr style=\"text-align: right;\">\n",
              "      <th></th>\n",
              "      <th>rating_id</th>\n",
              "      <th>book_id</th>\n",
              "      <th>username</th>\n",
              "      <th>rating</th>\n",
              "    </tr>\n",
              "  </thead>\n",
              "  <tbody>\n",
              "    <tr>\n",
              "      <th>0</th>\n",
              "      <td>1</td>\n",
              "      <td>1</td>\n",
              "      <td>ryanfranco</td>\n",
              "      <td>4</td>\n",
              "    </tr>\n",
              "    <tr>\n",
              "      <th>1</th>\n",
              "      <td>2</td>\n",
              "      <td>1</td>\n",
              "      <td>grantpatricia</td>\n",
              "      <td>2</td>\n",
              "    </tr>\n",
              "    <tr>\n",
              "      <th>2</th>\n",
              "      <td>3</td>\n",
              "      <td>1</td>\n",
              "      <td>brandtandrea</td>\n",
              "      <td>5</td>\n",
              "    </tr>\n",
              "    <tr>\n",
              "      <th>3</th>\n",
              "      <td>4</td>\n",
              "      <td>2</td>\n",
              "      <td>lorichen</td>\n",
              "      <td>3</td>\n",
              "    </tr>\n",
              "    <tr>\n",
              "      <th>4</th>\n",
              "      <td>5</td>\n",
              "      <td>2</td>\n",
              "      <td>mariokeller</td>\n",
              "      <td>2</td>\n",
              "    </tr>\n",
              "  </tbody>\n",
              "</table>\n",
              "</div>"
            ],
            "text/plain": [
              "   rating_id  book_id       username  rating\n",
              "0          1        1     ryanfranco       4\n",
              "1          2        1  grantpatricia       2\n",
              "2          3        1   brandtandrea       5\n",
              "3          4        2       lorichen       3\n",
              "4          5        2    mariokeller       2"
            ]
          },
          "execution_count": 5,
          "metadata": {},
          "output_type": "execute_result"
        }
      ],
      "source": [
        "query_4 = \"\"\"\n",
        "SELECT *\n",
        "FROM ratings\n",
        "LIMIT 5;\n",
        "\"\"\"\n",
        "pd.io.sql.read_sql(query_4,con=engine)"
      ]
    },
    {
      "cell_type": "markdown",
      "metadata": {
        "id": "1gSoLEYKhDcL"
      },
      "source": [
        "#### Reviews\n",
        "\n",
        "Contiene datos sobre las reseñas de los y las clientes:\n",
        "- `review_id` — identificación de la reseña\n",
        "- `book_id` — identificación del libro\n",
        "- `username` — el nombre del usuario que revisó el libro\n",
        "- `text` — el texto de la reseña\n"
      ]
    },
    {
      "cell_type": "code",
      "execution_count": null,
      "metadata": {
        "id": "f-E3SCE3hDcL",
        "outputId": "b45c68d3-0628-4c0c-87fe-50e03659578d"
      },
      "outputs": [
        {
          "data": {
            "text/html": [
              "<div>\n",
              "<style scoped>\n",
              "    .dataframe tbody tr th:only-of-type {\n",
              "        vertical-align: middle;\n",
              "    }\n",
              "\n",
              "    .dataframe tbody tr th {\n",
              "        vertical-align: top;\n",
              "    }\n",
              "\n",
              "    .dataframe thead th {\n",
              "        text-align: right;\n",
              "    }\n",
              "</style>\n",
              "<table border=\"1\" class=\"dataframe\">\n",
              "  <thead>\n",
              "    <tr style=\"text-align: right;\">\n",
              "      <th></th>\n",
              "      <th>review_id</th>\n",
              "      <th>book_id</th>\n",
              "      <th>username</th>\n",
              "      <th>text</th>\n",
              "    </tr>\n",
              "  </thead>\n",
              "  <tbody>\n",
              "    <tr>\n",
              "      <th>0</th>\n",
              "      <td>1</td>\n",
              "      <td>1</td>\n",
              "      <td>brandtandrea</td>\n",
              "      <td>Mention society tell send professor analysis. ...</td>\n",
              "    </tr>\n",
              "    <tr>\n",
              "      <th>1</th>\n",
              "      <td>2</td>\n",
              "      <td>1</td>\n",
              "      <td>ryanfranco</td>\n",
              "      <td>Foot glass pretty audience hit themselves. Amo...</td>\n",
              "    </tr>\n",
              "    <tr>\n",
              "      <th>2</th>\n",
              "      <td>3</td>\n",
              "      <td>2</td>\n",
              "      <td>lorichen</td>\n",
              "      <td>Listen treat keep worry. Miss husband tax but ...</td>\n",
              "    </tr>\n",
              "    <tr>\n",
              "      <th>3</th>\n",
              "      <td>4</td>\n",
              "      <td>3</td>\n",
              "      <td>johnsonamanda</td>\n",
              "      <td>Finally month interesting blue could nature cu...</td>\n",
              "    </tr>\n",
              "    <tr>\n",
              "      <th>4</th>\n",
              "      <td>5</td>\n",
              "      <td>3</td>\n",
              "      <td>scotttamara</td>\n",
              "      <td>Nation purpose heavy give wait song will. List...</td>\n",
              "    </tr>\n",
              "  </tbody>\n",
              "</table>\n",
              "</div>"
            ],
            "text/plain": [
              "   review_id  book_id       username  \\\n",
              "0          1        1   brandtandrea   \n",
              "1          2        1     ryanfranco   \n",
              "2          3        2       lorichen   \n",
              "3          4        3  johnsonamanda   \n",
              "4          5        3    scotttamara   \n",
              "\n",
              "                                                text  \n",
              "0  Mention society tell send professor analysis. ...  \n",
              "1  Foot glass pretty audience hit themselves. Amo...  \n",
              "2  Listen treat keep worry. Miss husband tax but ...  \n",
              "3  Finally month interesting blue could nature cu...  \n",
              "4  Nation purpose heavy give wait song will. List...  "
            ]
          },
          "execution_count": 6,
          "metadata": {},
          "output_type": "execute_result"
        }
      ],
      "source": [
        "query_5 = \"\"\"\n",
        "SELECT *\n",
        "FROM reviews\n",
        "LIMIT 5;\n",
        "\"\"\"\n",
        "pd.io.sql.read_sql(query_5,con=engine)"
      ]
    },
    {
      "cell_type": "markdown",
      "metadata": {
        "id": "m78WCv5ehDcM"
      },
      "source": [
        "### Diagrama de datos\n",
        "\n",
        "<img src=https://practicum-content.s3.us-west-1.amazonaws.com/resources/moved_Untitled_-_2020-07-02T142019.920_1593688954.png>\n",
        "\n",
        "\n"
      ]
    },
    {
      "cell_type": "markdown",
      "metadata": {
        "id": "rWAd2BFehDcM"
      },
      "source": [
        "##  Consultas"
      ]
    },
    {
      "cell_type": "markdown",
      "metadata": {
        "id": "qdQ7YpkAhDcN"
      },
      "source": [
        "### Número de libros publicados después del 1 de enero de 2000.\n",
        "\n",
        "En la base de datos hay 1000 libros, de los cuales 819 fueron publicados antes del 1 de enero del 2000."
      ]
    },
    {
      "cell_type": "code",
      "execution_count": null,
      "metadata": {
        "id": "Wsj6CrmehDcN",
        "outputId": "8e1a09e9-da3f-482c-93fe-5b616de2a6e3"
      },
      "outputs": [
        {
          "data": {
            "text/html": [
              "<div>\n",
              "<style scoped>\n",
              "    .dataframe tbody tr th:only-of-type {\n",
              "        vertical-align: middle;\n",
              "    }\n",
              "\n",
              "    .dataframe tbody tr th {\n",
              "        vertical-align: top;\n",
              "    }\n",
              "\n",
              "    .dataframe thead th {\n",
              "        text-align: right;\n",
              "    }\n",
              "</style>\n",
              "<table border=\"1\" class=\"dataframe\">\n",
              "  <thead>\n",
              "    <tr style=\"text-align: right;\">\n",
              "      <th></th>\n",
              "      <th>book</th>\n",
              "    </tr>\n",
              "  </thead>\n",
              "  <tbody>\n",
              "    <tr>\n",
              "      <th>0</th>\n",
              "      <td>819</td>\n",
              "    </tr>\n",
              "  </tbody>\n",
              "</table>\n",
              "</div>"
            ],
            "text/plain": [
              "   book\n",
              "0   819"
            ]
          },
          "execution_count": 7,
          "metadata": {},
          "output_type": "execute_result"
        }
      ],
      "source": [
        "query_6 = \"\"\"\n",
        "SELECT COUNT(book_id) AS book\n",
        "FROM books\n",
        "WHERE publication_date > '2000-01-01';\n",
        "\"\"\"\n",
        "\n",
        "pd.io.sql.read_sql(query_6, con=engine)"
      ]
    },
    {
      "cell_type": "markdown",
      "metadata": {
        "id": "SO8QF9D8hDcN"
      },
      "source": [
        "###  Número de reseñas de usuarios y la calificación promedio para cada libro.\n",
        "\n",
        "Tenemos registros de 1000 libros.\n",
        "\n",
        "Observamos que el libro con 5 estrellas de rating que más reseñas tiene es el 17, con 16 reseñas. Y el libro con el ranking más bajo (1.5 estrellas) solo tiene 4 reseñas, es el libro con id 303."
      ]
    },
    {
      "cell_type": "code",
      "execution_count": null,
      "metadata": {
        "id": "7VWdvkzehDcN",
        "outputId": "32f22f2a-31bd-403c-adc0-ddfdd0d6fd40"
      },
      "outputs": [
        {
          "data": {
            "text/html": [
              "<div>\n",
              "<style scoped>\n",
              "    .dataframe tbody tr th:only-of-type {\n",
              "        vertical-align: middle;\n",
              "    }\n",
              "\n",
              "    .dataframe tbody tr th {\n",
              "        vertical-align: top;\n",
              "    }\n",
              "\n",
              "    .dataframe thead th {\n",
              "        text-align: right;\n",
              "    }\n",
              "</style>\n",
              "<table border=\"1\" class=\"dataframe\">\n",
              "  <thead>\n",
              "    <tr style=\"text-align: right;\">\n",
              "      <th></th>\n",
              "      <th>book_id</th>\n",
              "      <th>number_reviews</th>\n",
              "      <th>mean_rate</th>\n",
              "    </tr>\n",
              "  </thead>\n",
              "  <tbody>\n",
              "    <tr>\n",
              "      <th>0</th>\n",
              "      <td>17</td>\n",
              "      <td>16</td>\n",
              "      <td>5.00</td>\n",
              "    </tr>\n",
              "    <tr>\n",
              "      <th>1</th>\n",
              "      <td>553</td>\n",
              "      <td>12</td>\n",
              "      <td>5.00</td>\n",
              "    </tr>\n",
              "    <tr>\n",
              "      <th>2</th>\n",
              "      <td>444</td>\n",
              "      <td>9</td>\n",
              "      <td>5.00</td>\n",
              "    </tr>\n",
              "    <tr>\n",
              "      <th>3</th>\n",
              "      <td>347</td>\n",
              "      <td>6</td>\n",
              "      <td>5.00</td>\n",
              "    </tr>\n",
              "    <tr>\n",
              "      <th>4</th>\n",
              "      <td>610</td>\n",
              "      <td>4</td>\n",
              "      <td>5.00</td>\n",
              "    </tr>\n",
              "    <tr>\n",
              "      <th>...</th>\n",
              "      <td>...</td>\n",
              "      <td>...</td>\n",
              "      <td>...</td>\n",
              "    </tr>\n",
              "    <tr>\n",
              "      <th>995</th>\n",
              "      <td>915</td>\n",
              "      <td>12</td>\n",
              "      <td>2.25</td>\n",
              "    </tr>\n",
              "    <tr>\n",
              "      <th>996</th>\n",
              "      <td>202</td>\n",
              "      <td>9</td>\n",
              "      <td>2.00</td>\n",
              "    </tr>\n",
              "    <tr>\n",
              "      <th>997</th>\n",
              "      <td>371</td>\n",
              "      <td>4</td>\n",
              "      <td>2.00</td>\n",
              "    </tr>\n",
              "    <tr>\n",
              "      <th>998</th>\n",
              "      <td>316</td>\n",
              "      <td>4</td>\n",
              "      <td>2.00</td>\n",
              "    </tr>\n",
              "    <tr>\n",
              "      <th>999</th>\n",
              "      <td>303</td>\n",
              "      <td>4</td>\n",
              "      <td>1.50</td>\n",
              "    </tr>\n",
              "  </tbody>\n",
              "</table>\n",
              "<p>1000 rows × 3 columns</p>\n",
              "</div>"
            ],
            "text/plain": [
              "     book_id  number_reviews  mean_rate\n",
              "0         17              16       5.00\n",
              "1        553              12       5.00\n",
              "2        444               9       5.00\n",
              "3        347               6       5.00\n",
              "4        610               4       5.00\n",
              "..       ...             ...        ...\n",
              "995      915              12       2.25\n",
              "996      202               9       2.00\n",
              "997      371               4       2.00\n",
              "998      316               4       2.00\n",
              "999      303               4       1.50\n",
              "\n",
              "[1000 rows x 3 columns]"
            ]
          },
          "execution_count": 8,
          "metadata": {},
          "output_type": "execute_result"
        }
      ],
      "source": [
        "query_7 = \"\"\"\n",
        "SELECT  ratings.book_id,\n",
        "COUNT(reviews.review_id) AS number_reviews,\n",
        "AVG(ratings.rating) AS mean_rate\n",
        "FROM reviews\n",
        "FULL JOIN  ratings ON reviews.book_id = ratings.book_id\n",
        "GROUP BY ratings.book_id\n",
        "ORDER BY mean_rate DESC , number_reviews DESC;\n",
        "\"\"\"\n",
        "pd.io.sql.read_sql(query_7,con=engine)"
      ]
    },
    {
      "cell_type": "markdown",
      "metadata": {
        "id": "7Y3Uy4GghDcO"
      },
      "source": [
        "###  Editorial que ha publicado el mayor número de libros con más de 50 páginas\n",
        "\n",
        "La editorial **Penguin Books**, con id 212, es la que ha publicado mayor número de libros de más de 50 páginas; ha publicado 42. Le sigue la editorial Vintage con 31 libros de más de 50 páginas."
      ]
    },
    {
      "cell_type": "code",
      "execution_count": null,
      "metadata": {
        "id": "1zXNlZ8HhDcP",
        "outputId": "ec3b62fe-db5f-4e32-c2a9-ab67b37b7d5f"
      },
      "outputs": [
        {
          "data": {
            "text/html": [
              "<div>\n",
              "<style scoped>\n",
              "    .dataframe tbody tr th:only-of-type {\n",
              "        vertical-align: middle;\n",
              "    }\n",
              "\n",
              "    .dataframe tbody tr th {\n",
              "        vertical-align: top;\n",
              "    }\n",
              "\n",
              "    .dataframe thead th {\n",
              "        text-align: right;\n",
              "    }\n",
              "</style>\n",
              "<table border=\"1\" class=\"dataframe\">\n",
              "  <thead>\n",
              "    <tr style=\"text-align: right;\">\n",
              "      <th></th>\n",
              "      <th>publisher_id</th>\n",
              "      <th>publisher</th>\n",
              "      <th>number_books</th>\n",
              "    </tr>\n",
              "  </thead>\n",
              "  <tbody>\n",
              "    <tr>\n",
              "      <th>0</th>\n",
              "      <td>212</td>\n",
              "      <td>Penguin Books</td>\n",
              "      <td>42</td>\n",
              "    </tr>\n",
              "    <tr>\n",
              "      <th>1</th>\n",
              "      <td>309</td>\n",
              "      <td>Vintage</td>\n",
              "      <td>31</td>\n",
              "    </tr>\n",
              "    <tr>\n",
              "      <th>2</th>\n",
              "      <td>116</td>\n",
              "      <td>Grand Central Publishing</td>\n",
              "      <td>25</td>\n",
              "    </tr>\n",
              "  </tbody>\n",
              "</table>\n",
              "</div>"
            ],
            "text/plain": [
              "   publisher_id                 publisher  number_books\n",
              "0           212             Penguin Books            42\n",
              "1           309                   Vintage            31\n",
              "2           116  Grand Central Publishing            25"
            ]
          },
          "execution_count": 9,
          "metadata": {},
          "output_type": "execute_result"
        }
      ],
      "source": [
        "query_8 = \"\"\"\n",
        "SELECT books.publisher_id,\n",
        "publishers.publisher,\n",
        "COUNT(book_id) AS number_books\n",
        "FROM books\n",
        "FULL JOIN publishers ON publishers.publisher_id = books.publisher_id\n",
        "WHERE books.num_pages > 50\n",
        "GROUP BY books.publisher_id,publishers.publisher\n",
        "ORDER BY number_books DESC\n",
        "LIMIT 3;\n",
        "\"\"\"\n",
        "\n",
        "pd.io.sql.read_sql(query_8,con=engine)"
      ]
    },
    {
      "cell_type": "markdown",
      "metadata": {
        "id": "FlQNDAxihDcP"
      },
      "source": [
        "### Autor que tiene la más alta calificación promedio del libro (solo libros con al menos 50 calificaciones).\n",
        "\n",
        "**J.K. Rowling/Mary GrandPré** con el libro \"Harry Potter and the Prisoner of Azkaban\" (id = 302), ha acumulado una calificación promedio de **4.41**  con una cantidad de 82 evaluaciones."
      ]
    },
    {
      "cell_type": "code",
      "execution_count": null,
      "metadata": {
        "id": "Negzyl4yhDcP",
        "outputId": "03362dc9-b786-4bd5-8154-c8eb6fdd1673"
      },
      "outputs": [
        {
          "data": {
            "text/html": [
              "<div>\n",
              "<style scoped>\n",
              "    .dataframe tbody tr th:only-of-type {\n",
              "        vertical-align: middle;\n",
              "    }\n",
              "\n",
              "    .dataframe tbody tr th {\n",
              "        vertical-align: top;\n",
              "    }\n",
              "\n",
              "    .dataframe thead th {\n",
              "        text-align: right;\n",
              "    }\n",
              "</style>\n",
              "<table border=\"1\" class=\"dataframe\">\n",
              "  <thead>\n",
              "    <tr style=\"text-align: right;\">\n",
              "      <th></th>\n",
              "      <th>mean_rate</th>\n",
              "      <th>rates_count</th>\n",
              "      <th>book_id</th>\n",
              "      <th>title</th>\n",
              "      <th>author</th>\n",
              "    </tr>\n",
              "  </thead>\n",
              "  <tbody>\n",
              "    <tr>\n",
              "      <th>0</th>\n",
              "      <td>4.414634</td>\n",
              "      <td>82</td>\n",
              "      <td>302</td>\n",
              "      <td>Harry Potter and the Prisoner of Azkaban (Harr...</td>\n",
              "      <td>J.K. Rowling/Mary GrandPré</td>\n",
              "    </tr>\n",
              "    <tr>\n",
              "      <th>1</th>\n",
              "      <td>4.391892</td>\n",
              "      <td>74</td>\n",
              "      <td>722</td>\n",
              "      <td>The Fellowship of the Ring (The Lord of the Ri...</td>\n",
              "      <td>J.R.R. Tolkien</td>\n",
              "    </tr>\n",
              "    <tr>\n",
              "      <th>2</th>\n",
              "      <td>4.287500</td>\n",
              "      <td>80</td>\n",
              "      <td>299</td>\n",
              "      <td>Harry Potter and the Chamber of Secrets (Harry...</td>\n",
              "      <td>J.K. Rowling/Mary GrandPré</td>\n",
              "    </tr>\n",
              "  </tbody>\n",
              "</table>\n",
              "</div>"
            ],
            "text/plain": [
              "   mean_rate  rates_count  book_id  \\\n",
              "0   4.414634           82      302   \n",
              "1   4.391892           74      722   \n",
              "2   4.287500           80      299   \n",
              "\n",
              "                                               title  \\\n",
              "0  Harry Potter and the Prisoner of Azkaban (Harr...   \n",
              "1  The Fellowship of the Ring (The Lord of the Ri...   \n",
              "2  Harry Potter and the Chamber of Secrets (Harry...   \n",
              "\n",
              "                       author  \n",
              "0  J.K. Rowling/Mary GrandPré  \n",
              "1              J.R.R. Tolkien  \n",
              "2  J.K. Rowling/Mary GrandPré  "
            ]
          },
          "execution_count": 10,
          "metadata": {},
          "output_type": "execute_result"
        }
      ],
      "source": [
        "query_9 = \"\"\"\n",
        "SELECT AVG(ratings.rating) AS mean_rate,\n",
        "COUNT(ratings.rating_id) AS rates_count,\n",
        "books.book_id,\n",
        "books.title,\n",
        "authors.author\n",
        "FROM ratings\n",
        "RIGHT JOIN books ON books.book_id = ratings.book_id\n",
        "RIGHT JOIN authors ON authors.author_id = books.author_id\n",
        "GROUP BY ratings.book_id, books.book_id,authors.author\n",
        "HAVING COUNT(ratings.rating_id) > 50\n",
        "ORDER BY mean_rate DESC\n",
        "LIMIT 3;\n",
        "\"\"\"\n",
        "pd.io.sql.read_sql(query_9,con=engine)"
      ]
    },
    {
      "cell_type": "markdown",
      "metadata": {
        "id": "yBCccG5qhDcQ"
      },
      "source": [
        "###  Número promedio de reseñas de texto entre los usuarios que calificaron más de 50 libros.\n",
        "\n",
        "Los usuarios que califiacron más de 50 libros diferentes, en promedio escriben 1,394.53 reseñas escritas.\n"
      ]
    },
    {
      "cell_type": "code",
      "execution_count": null,
      "metadata": {
        "id": "rUSbQAHkhDcQ",
        "outputId": "0898a088-e0fa-4f48-98a3-d0cc510ca359"
      },
      "outputs": [
        {
          "data": {
            "text/html": [
              "<div>\n",
              "<style scoped>\n",
              "    .dataframe tbody tr th:only-of-type {\n",
              "        vertical-align: middle;\n",
              "    }\n",
              "\n",
              "    .dataframe tbody tr th {\n",
              "        vertical-align: top;\n",
              "    }\n",
              "\n",
              "    .dataframe thead th {\n",
              "        text-align: right;\n",
              "    }\n",
              "</style>\n",
              "<table border=\"1\" class=\"dataframe\">\n",
              "  <thead>\n",
              "    <tr style=\"text-align: right;\">\n",
              "      <th></th>\n",
              "      <th>avg_text_reviews</th>\n",
              "    </tr>\n",
              "  </thead>\n",
              "  <tbody>\n",
              "    <tr>\n",
              "      <th>0</th>\n",
              "      <td>1394.537916</td>\n",
              "    </tr>\n",
              "  </tbody>\n",
              "</table>\n",
              "</div>"
            ],
            "text/plain": [
              "   avg_text_reviews\n",
              "0       1394.537916"
            ]
          },
          "execution_count": 13,
          "metadata": {},
          "output_type": "execute_result"
        }
      ],
      "source": [
        "query_10 = \"\"\"\n",
        "SELECT  AVG(reviews.review_id) AS avg_text_reviews\n",
        "FROM ratings\n",
        "LEFT JOIN reviews ON ratings.username = reviews.username\n",
        "HAVING COUNT(DISTINCT(ratings.book_id)) > 50 ;\n",
        "\"\"\"\n",
        "\n",
        "pd.io.sql.read_sql(query_10, con= engine)"
      ]
    }
  ],
  "metadata": {
    "kernelspec": {
      "display_name": "Python 3 (ipykernel)",
      "language": "python",
      "name": "python3"
    },
    "language_info": {
      "codemirror_mode": {
        "name": "ipython",
        "version": 3
      },
      "file_extension": ".py",
      "mimetype": "text/x-python",
      "name": "python",
      "nbconvert_exporter": "python",
      "pygments_lexer": "ipython3",
      "version": "3.9.22"
    },
    "colab": {
      "provenance": [],
      "include_colab_link": true
    }
  },
  "nbformat": 4,
  "nbformat_minor": 0
}